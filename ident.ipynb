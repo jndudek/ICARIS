{
 "cells": [
  {
   "cell_type": "code",
   "execution_count": 38,
   "metadata": {},
   "outputs": [
    {
     "name": "stdout",
     "output_type": "stream",
     "text": [
      "[[21, 70, 121, 66], [68, 49, 52, 50], [8, 3, 136, 119]]\n"
     ]
    }
   ],
   "source": [
    "import numpy as np\n",
    "import cv2\n",
    "n = 0;\n",
    "image = cv2.imread(\"c1_23.jpg\")\n",
    "gray = cv2.cvtColor(image,cv2.COLOR_BGR2GRAY) # grayscale\n",
    "_,thresh = cv2.threshold(gray,200,255,cv2.THRESH_BINARY_INV) \n",
    "#threshold\n",
    "kernel = cv2.getStructuringElement(cv2.MORPH_CROSS,(3,3))\n",
    "dilated = cv2.dilate(thresh,kernel,iterations = 4) # dilate\n",
    "image2,contours, hierarchy =cv2.findContours(dilated,cv2.RETR_EXTERNAL,cv2.CHAIN_APPROX_NONE) \n",
    "# get contours\n",
    "# for each contour found, draw a rectangle around it on original \n",
    "image\n",
    "i = [];\n",
    "for contour in contours:\n",
    "     \n",
    "    # get rectangle bounding contour\n",
    "   \n",
    "    [x,y,w,h] = cv2.boundingRect(contour)\n",
    "    a =  [x,y,w,h]\n",
    "  \n",
    "    # discard areas that are too large\n",
    " \n",
    "    if h>300 and w>300:\n",
    " \n",
    "        continue\n",
    "    # discard areas that are too small\n",
    " \n",
    "    if h<40 or w<40:\n",
    " \n",
    "        continue\n",
    "    # draw rectangle around contour on original image\n",
    "\n",
    "    newrect = cv2.rectangle(image,(x,y),(x+w,y+h),(255,0,255),2)\n",
    "    i.append(a)\n",
    "\n",
    "# write original image with added contours to disk  \n",
    "cv2.imwrite(\"contoured.jpg\", image)\n",
    "cv2.imwrite(\"test.jpg\", dilated)\n",
    "print(i)\n"
   ]
  },
  {
   "cell_type": "markdown",
   "metadata": {},
   "source": [
    "a = i[1][0]\n",
    "b = i[1][1]\n",
    "c = i[1][2]\n",
    "d = i[1][3]\n",
    "q = i[0][0]\n",
    "w = i[0][1]\n",
    "e = i[0][2]\n",
    "r = i[0][3]"
   ]
  },
  {
   "cell_type": "code",
   "execution_count": null,
   "metadata": {},
   "outputs": [],
   "source": [
    "crop_img2 = image[w:w+r, q:q+e]\n",
    "cv2.imwrite(\"contoured4.jpg\", crop_img2)\n",
    "crop_img = image[b:b+d, a:a+c]\n",
    "cv2.imwrite(\"contoured3.jpg\", crop_img)"
   ]
  },
  {
   "cell_type": "code",
   "execution_count": 6,
   "metadata": {},
   "outputs": [],
   "source": [
    "components = []\n",
    "n = 0\n",
    "for x in i:\n",
    "    print(x)\n",
    "    a = x[0]\n",
    "    b = x[1]\n",
    "    c = x[2]\n",
    "    d = x[3]\n",
    "    crop_img2 = image[b:b+d, a:a+c]\n",
    "    components.append(crop_img2)\n",
    "    n+=1\n",
    "    filename = \"thefile_%d.jpg\"%n\n",
    "    cv2.imwrite(filename, crop_img2)\n",
    "    cv2.imshow('image%d'%n,crop_img2)"
   ]
  },
  {
   "cell_type": "code",
   "execution_count": 2,
   "metadata": {},
   "outputs": [],
   "source": [
    "import numpy as np\n",
    "import cv2\n",
    "from matplotlib import pyplot as plt\n",
    "\n",
    "img = cv2.imread('c1_1.jpg')\n",
    "gray = cv2.cvtColor(img,cv2.COLOR_BGR2GRAY)\n",
    "ret, thresh = cv2.threshold(gray,0,255,cv2.THRESH_BINARY_INV+cv2.THRESH_OTSU)"
   ]
  },
  {
   "cell_type": "code",
   "execution_count": 3,
   "metadata": {},
   "outputs": [
    {
     "ename": "TypeError",
     "evalue": "array is not a numpy array, neither a scalar",
     "output_type": "error",
     "traceback": [
      "\u001b[1;31m---------------------------------------------------------------------------\u001b[0m",
      "\u001b[1;31mTypeError\u001b[0m                                 Traceback (most recent call last)",
      "\u001b[1;32m<ipython-input-3-d4d44bfd9dfb>\u001b[0m in \u001b[0;36m<module>\u001b[1;34m()\u001b[0m\n\u001b[0;32m      3\u001b[0m \u001b[0mimage2\u001b[0m\u001b[1;33m,\u001b[0m\u001b[0mcontours\u001b[0m\u001b[1;33m,\u001b[0m \u001b[0mhierarchy\u001b[0m \u001b[1;33m=\u001b[0m\u001b[0mcv2\u001b[0m\u001b[1;33m.\u001b[0m\u001b[0mfindContours\u001b[0m\u001b[1;33m(\u001b[0m\u001b[0mthresh\u001b[0m\u001b[1;33m,\u001b[0m\u001b[0mcv2\u001b[0m\u001b[1;33m.\u001b[0m\u001b[0mRETR_EXTERNAL\u001b[0m\u001b[1;33m,\u001b[0m\u001b[0mcv2\u001b[0m\u001b[1;33m.\u001b[0m\u001b[0mCHAIN_APPROX_NONE\u001b[0m\u001b[1;33m)\u001b[0m\u001b[1;33m\u001b[0m\u001b[0m\n\u001b[0;32m      4\u001b[0m \u001b[0mi\u001b[0m \u001b[1;33m=\u001b[0m \u001b[1;33m[\u001b[0m\u001b[1;33m]\u001b[0m\u001b[1;33m;\u001b[0m\u001b[1;33m\u001b[0m\u001b[0m\n\u001b[1;32m----> 5\u001b[1;33m \u001b[1;33m[\u001b[0m\u001b[0mx\u001b[0m\u001b[1;33m,\u001b[0m\u001b[0my\u001b[0m\u001b[1;33m,\u001b[0m\u001b[0mw\u001b[0m\u001b[1;33m,\u001b[0m\u001b[0mh\u001b[0m\u001b[1;33m]\u001b[0m \u001b[1;33m=\u001b[0m \u001b[0mcv2\u001b[0m\u001b[1;33m.\u001b[0m\u001b[0mboundingRect\u001b[0m\u001b[1;33m(\u001b[0m\u001b[0mcontours\u001b[0m\u001b[1;33m)\u001b[0m\u001b[1;33m\u001b[0m\u001b[0m\n\u001b[0m\u001b[0;32m      6\u001b[0m \u001b[0ma\u001b[0m \u001b[1;33m=\u001b[0m  \u001b[1;33m[\u001b[0m\u001b[0mx\u001b[0m\u001b[1;33m,\u001b[0m\u001b[0my\u001b[0m\u001b[1;33m,\u001b[0m\u001b[0mw\u001b[0m\u001b[1;33m,\u001b[0m\u001b[0mh\u001b[0m\u001b[1;33m]\u001b[0m\u001b[1;33m\u001b[0m\u001b[0m\n\u001b[0;32m      7\u001b[0m \u001b[0mnewrect\u001b[0m \u001b[1;33m=\u001b[0m \u001b[0mcv2\u001b[0m\u001b[1;33m.\u001b[0m\u001b[0mrectangle\u001b[0m\u001b[1;33m(\u001b[0m\u001b[0mimage\u001b[0m\u001b[1;33m,\u001b[0m\u001b[1;33m(\u001b[0m\u001b[0mx\u001b[0m\u001b[1;33m,\u001b[0m\u001b[0my\u001b[0m\u001b[1;33m)\u001b[0m\u001b[1;33m,\u001b[0m\u001b[1;33m(\u001b[0m\u001b[0mx\u001b[0m\u001b[1;33m+\u001b[0m\u001b[0mw\u001b[0m\u001b[1;33m,\u001b[0m\u001b[0my\u001b[0m\u001b[1;33m+\u001b[0m\u001b[0mh\u001b[0m\u001b[1;33m)\u001b[0m\u001b[1;33m,\u001b[0m\u001b[1;33m(\u001b[0m\u001b[1;36m255\u001b[0m\u001b[1;33m,\u001b[0m\u001b[1;36m0\u001b[0m\u001b[1;33m,\u001b[0m\u001b[1;36m255\u001b[0m\u001b[1;33m)\u001b[0m\u001b[1;33m,\u001b[0m\u001b[1;36m2\u001b[0m\u001b[1;33m)\u001b[0m\u001b[1;33m\u001b[0m\u001b[0m\n",
      "\u001b[1;31mTypeError\u001b[0m: array is not a numpy array, neither a scalar"
     ]
    }
   ],
   "source": [
    "cv2.imwrite(\"contoured.jpg\", thresh)\n",
    "\n",
    "image2,contours, hierarchy =cv2.findContours(thresh,cv2.RETR_EXTERNAL,cv2.CHAIN_APPROX_NONE) \n",
    "i = [];\n",
    "[x,y,w,h] = cv2.boundingRect(contours)\n",
    "a =  [x,y,w,h]\n",
    "newrect = cv2.rectangle(image,(x,y),(x+w,y+h),(255,0,255),2)\n",
    "i.append(a)\n",
    "cv2.imwrite(\"contoured.jpg\", image)"
   ]
  },
  {
   "cell_type": "code",
   "execution_count": 4,
   "metadata": {},
   "outputs": [
    {
     "ename": "NameError",
     "evalue": "name 'opening' is not defined",
     "output_type": "error",
     "traceback": [
      "\u001b[1;31m---------------------------------------------------------------------------\u001b[0m",
      "\u001b[1;31mNameError\u001b[0m                                 Traceback (most recent call last)",
      "\u001b[1;32m<ipython-input-4-6ea8d0405b6a>\u001b[0m in \u001b[0;36m<module>\u001b[1;34m()\u001b[0m\n\u001b[0;32m      6\u001b[0m \u001b[1;33m\u001b[0m\u001b[0m\n\u001b[0;32m      7\u001b[0m \u001b[1;31m# Finding sure foreground area\u001b[0m\u001b[1;33m\u001b[0m\u001b[1;33m\u001b[0m\u001b[0m\n\u001b[1;32m----> 8\u001b[1;33m \u001b[0mdist_transform\u001b[0m \u001b[1;33m=\u001b[0m \u001b[0mcv2\u001b[0m\u001b[1;33m.\u001b[0m\u001b[0mdistanceTransform\u001b[0m\u001b[1;33m(\u001b[0m\u001b[0mopening\u001b[0m\u001b[1;33m,\u001b[0m\u001b[0mcv2\u001b[0m\u001b[1;33m.\u001b[0m\u001b[0mDIST_L2\u001b[0m\u001b[1;33m,\u001b[0m\u001b[1;36m5\u001b[0m\u001b[1;33m)\u001b[0m\u001b[1;33m\u001b[0m\u001b[0m\n\u001b[0m\u001b[0;32m      9\u001b[0m \u001b[0mret\u001b[0m\u001b[1;33m,\u001b[0m \u001b[0msure_fg\u001b[0m \u001b[1;33m=\u001b[0m \u001b[0mcv2\u001b[0m\u001b[1;33m.\u001b[0m\u001b[0mthreshold\u001b[0m\u001b[1;33m(\u001b[0m\u001b[0mdist_transform\u001b[0m\u001b[1;33m,\u001b[0m\u001b[1;36m0.7\u001b[0m\u001b[1;33m*\u001b[0m\u001b[0mdist_transform\u001b[0m\u001b[1;33m.\u001b[0m\u001b[0mmax\u001b[0m\u001b[1;33m(\u001b[0m\u001b[1;33m)\u001b[0m\u001b[1;33m,\u001b[0m\u001b[1;36m255\u001b[0m\u001b[1;33m,\u001b[0m\u001b[1;36m0\u001b[0m\u001b[1;33m)\u001b[0m\u001b[1;33m\u001b[0m\u001b[0m\n\u001b[0;32m     10\u001b[0m \u001b[1;33m\u001b[0m\u001b[0m\n",
      "\u001b[1;31mNameError\u001b[0m: name 'opening' is not defined"
     ]
    }
   ],
   "source": [
    "# noise removal\n",
    "kernel = np.ones((3,3),np.uint8)\n",
    "\n",
    "# sure background area\n",
    "sure_bg = cv2.dilate(thresh,kernel,iterations=1)\n",
    "\n",
    "# Finding sure foreground area\n",
    "dist_transform = cv2.distanceTransform(opening,cv2.DIST_L2,5)\n",
    "ret, sure_fg = cv2.threshold(dist_transform,0.7*dist_transform.max(),255,0)\n",
    "\n",
    "# Finding unknown region\n",
    "sure_fg = np.uint8(sure_fg)\n",
    "unknown = cv2.subtract(sure_bg,sure_fg)"
   ]
  },
  {
   "cell_type": "code",
   "execution_count": 41,
   "metadata": {},
   "outputs": [
    {
     "data": {
      "text/plain": [
       "True"
      ]
     },
     "execution_count": 41,
     "metadata": {},
     "output_type": "execute_result"
    }
   ],
   "source": [
    "cv2.imwrite(\"opening.jpg\", )"
   ]
  },
  {
   "cell_type": "code",
   "execution_count": 22,
   "metadata": {},
   "outputs": [],
   "source": [
    "# Marker labelling\n",
    "ret, markers = cv2.connectedComponents(thresh)\n",
    "\n",
    "# Add one to all labels so that sure background is not 0, but 1\n",
    "markers = markers+1\n",
    "\n",
    "# Now, mark the region of unknown with zero\n",
    "markers[unknown==255] = 0"
   ]
  },
  {
   "cell_type": "code",
   "execution_count": 23,
   "metadata": {},
   "outputs": [],
   "source": [
    "markers = cv2.watershed(img,markers)\n",
    "img[markers == -1] = [255,0,0]"
   ]
  },
  {
   "cell_type": "code",
   "execution_count": 24,
   "metadata": {},
   "outputs": [
    {
     "data": {
      "text/plain": [
       "True"
      ]
     },
     "execution_count": 24,
     "metadata": {},
     "output_type": "execute_result"
    }
   ],
   "source": [
    "cv2.imwrite(\"contoured.jpg\", markers)"
   ]
  },
  {
   "cell_type": "code",
   "execution_count": 12,
   "metadata": {},
   "outputs": [
    {
     "name": "stdout",
     "output_type": "stream",
     "text": [
      "[[    0     0   255   255 59507]\n",
      " [   54    37   182    75  1821]\n",
      " [   44    50   185   179  3344]\n",
      " [  204   120    20     7   114]\n",
      " [  197   132    39     8   239]]\n"
     ]
    }
   ],
   "source": [
    "# Import the cv2 library\n",
    "import cv2\n",
    "# Read the image you want connected components of\n",
    "img = cv2.imread('circuit2.jpg')\n",
    "img = cv2.resize(img,(255,255))\n",
    "gray = cv2.cvtColor(img,cv2.COLOR_BGR2GRAY)\n",
    "ret, thresh = cv2.threshold(gray,0,255,cv2.THRESH_BINARY_INV+cv2.THRESH_OTSU)\n",
    "kernel = cv2.getStructuringElement(cv2.MORPH_CROSS,(3,3))\n",
    "erosion = cv2.erode(thresh,kernel,iterations = 1)\n",
    "dilated = cv2.dilate(thresh,kernel,iterations = 1) # dilate\n",
    "# You need to choose 4 or 8 for connectivity type\n",
    "cv2.imwrite(\"dilated.jpg\", dilated)\n",
    "cv2.imwrite(\"threshhold.jpg\", thresh)\n",
    "\n",
    "connectivity = 8  \n",
    "# Perform the operation\n",
    "output = cv2.connectedComponentsWithStats(dilated, connectivity, cv2.CV_32S)\n",
    "# Get the results\n",
    "# The first cell is the number of labels\n",
    "num_labels = output[0]\n",
    "# The second cell is the label matrix\n",
    "labels = output[1]\n",
    "# The third cell is the stat matrix\n",
    "stats = output[2]\n",
    "# The fourth cell is the centroid matrix\n",
    "centroids = output[3]\n",
    "ret2, labels2 = cv2.connectedComponents(dilated)\n",
    "print(stats)"
   ]
  },
  {
   "cell_type": "code",
   "execution_count": 13,
   "metadata": {},
   "outputs": [],
   "source": [
    "def imshow_components(labels):\n",
    "    # Map component labels to hue val\n",
    "    label_hue = np.uint8(179*labels/np.max(labels))\n",
    "    blank_ch = 255*np.ones_like(label_hue)\n",
    "    labeled_img1 = cv2.merge([label_hue, blank_ch, blank_ch])\n",
    "\n",
    "    # cvt to BGR for display\n",
    "    labeled_img = cv2.cvtColor(labeled_img1, cv2.COLOR_HSV2BGR)\n",
    "\n",
    "    # set bg label to black\n",
    "    labeled_img[label_hue==0] = 0\n",
    "\n",
    "    cv2.imwrite('labeled.png', labeled_img)\n",
    "    cv2.waitKey()"
   ]
  },
  {
   "cell_type": "code",
   "execution_count": 14,
   "metadata": {},
   "outputs": [],
   "source": [
    "imshow_components(labels)"
   ]
  },
  {
   "cell_type": "code",
   "execution_count": 2,
   "metadata": {},
   "outputs": [
    {
     "name": "stdout",
     "output_type": "stream",
     "text": [
      "[[89, 151, 1, 1], [76, 151, 1, 1], [85, 149, 7, 3], [73, 149, 2, 3], [92, 147, 4, 5], [56, 143, 2, 2], [95, 137, 1, 1], [48, 134, 2, 3], [85, 130, 2, 2], [55, 129, 2, 1], [94, 125, 1, 1], [48, 125, 48, 27], [80, 149, 3, 3], [67, 149, 3, 3], [62, 149, 3, 3], [79, 148, 3, 3], [77, 148, 3, 3], [66, 148, 3, 3], [78, 147, 3, 3], [67, 147, 3, 3], [76, 146, 3, 3], [58, 146, 6, 4], [84, 145, 3, 3], [74, 145, 4, 4], [62, 145, 5, 3], [60, 144, 3, 3], [88, 143, 4, 4], [76, 143, 4, 5], [59, 143, 3, 3], [80, 142, 3, 3], [75, 142, 4, 4], [63, 141, 3, 3], [85, 140, 4, 4], [73, 140, 3, 4], [65, 140, 4, 4], [62, 140, 3, 3], [75, 139, 4, 4], [64, 139, 3, 3], [76, 138, 3, 3], [72, 138, 4, 3], [61, 138, 13, 9], [56, 138, 3, 4], [49, 138, 5, 6], [52, 137, 3, 3], [80, 136, 7, 11], [82, 135, 3, 3], [76, 135, 3, 3], [74, 135, 4, 5], [72, 135, 3, 4], [75, 134, 3, 3], [73, 134, 3, 3], [85, 133, 3, 3], [83, 133, 3, 3], [77, 133, 7, 12], [74, 133, 3, 3], [53, 133, 6, 7], [75, 132, 4, 3], [65, 132, 6, 9], [57, 132, 5, 6], [81, 131, 3, 3], [57, 131, 10, 13], [60, 131, 4, 4], [68, 130, 7, 10], [66, 130, 3, 3], [57, 130, 3, 3], [50, 130, 8, 6], [53, 133, 1, 1], [80, 129, 3, 4], [72, 129, 7, 6], [65, 129, 3, 3], [61, 129, 3, 3], [58, 129, 3, 3], [77, 128, 5, 7], [62, 128, 4, 3], [72, 123, 4, 4], [95, 122, 1, 1], [72, 121, 1, 1], [81, 119, 1, 1], [72, 117, 1, 2], [63, 117, 1, 1], [60, 117, 2, 2], [83, 116, 2, 3], [84, 113, 2, 2], [82, 112, 1, 1], [79, 112, 2, 1], [56, 112, 4, 8], [56, 115, 4, 3], [115, 111, 3, 1], [109, 111, 2, 1], [51, 111, 2, 1], [91, 110, 2, 2], [54, 110, 2, 2], [48, 110, 2, 2], [53, 109, 1, 1], [50, 109, 1, 1], [114, 108, 6, 3], [105, 108, 2, 1], [72, 107, 1, 1], [118, 106, 2, 1], [143, 103, 1, 1], [137, 103, 1, 1], [133, 103, 1, 1], [67, 103, 1, 1], [41, 103, 1, 1], [33, 103, 1, 1], [69, 102, 2, 1], [114, 101, 4, 2], [65, 101, 1, 3], [32, 101, 1, 1], [112, 100, 1, 1], [102, 100, 1, 2], [100, 100, 1, 2], [130, 99, 1, 1], [67, 99, 3, 2], [143, 97, 2, 2], [135, 97, 4, 2], [130, 97, 2, 1], [115, 97, 9, 2], [112, 97, 2, 1], [101, 97, 1, 1], [70, 97, 2, 1], [43, 97, 1, 1], [140, 96, 2, 1], [133, 96, 1, 1], [128, 96, 1, 1], [126, 96, 3, 5], [122, 96, 1, 1], [116, 96, 2, 1], [40, 96, 4, 5], [38, 96, 1, 1], [32, 96, 9, 8], [34, 100, 3, 3], [36, 99, 4, 4], [33, 96, 5, 5], [157, 95, 3, 9], [157, 101, 3, 3], [101, 95, 1, 1], [31, 95, 1, 1], [28, 94, 2, 2], [26, 94, 1, 2], [100, 92, 4, 3], [49, 92, 2, 1], [17, 91, 2, 6], [156, 90, 4, 4], [48, 90, 1, 1], [29, 90, 3, 4], [158, 88, 1, 1], [43, 88, 25, 28], [48, 103, 3, 3], [55, 101, 3, 3], [48, 101, 5, 3], [60, 99, 4, 4], [52, 99, 5, 7], [62, 98, 3, 3], [51, 98, 3, 3], [48, 98, 5, 4], [45, 98, 5, 6], [61, 97, 3, 3], [54, 97, 4, 4], [49, 97, 4, 3], [62, 96, 3, 3], [60, 96, 3, 3], [53, 96, 3, 3], [59, 95, 3, 3], [56, 95, 5, 5], [60, 94, 4, 4], [56, 94, 3, 3], [54, 94, 4, 4], [48, 94, 5, 4], [55, 93, 3, 3], [61, 92, 3, 3], [59, 92, 3, 4], [57, 92, 3, 4], [58, 91, 3, 3], [54, 91, 3, 4], [56, 90, 3, 4], [59, 89, 4, 5], [58, 89, 3, 3], [55, 89, 3, 3], [61, 88, 3, 3], [54, 88, 3, 3], [48, 88, 2, 1], [31, 88, 1, 2], [19, 88, 1, 1], [132, 87, 1, 1], [128, 87, 1, 1], [102, 87, 2, 3], [129, 85, 2, 2], [101, 85, 1, 2], [103, 84, 1, 1], [132, 83, 1, 2], [81, 83, 1, 1], [134, 82, 2, 4], [128, 82, 1, 2], [81, 81, 2, 1], [70, 81, 2, 4], [130, 80, 2, 3], [128, 80, 1, 1], [99, 80, 4, 3], [67, 80, 1, 1], [64, 80, 6, 8], [145, 79, 1, 1], [155, 78, 1, 2], [31, 77, 1, 2], [154, 75, 1, 1], [144, 75, 1, 2], [29, 75, 1, 2], [156, 74, 2, 6], [135, 74, 1, 1], [156, 72, 1, 1], [144, 72, 1, 1], [128, 72, 3, 7], [150, 69, 2, 1], [149, 65, 1, 2], [151, 63, 1, 1], [30, 63, 2, 6], [149, 60, 2, 2], [24, 60, 1, 2], [149, 56, 1, 2], [120, 54, 3, 2], [122, 53, 1, 1], [122, 51, 1, 1], [120, 50, 1, 1], [29, 49, 3, 10], [120, 48, 1, 1], [71, 47, 1, 1], [68, 47, 2, 1], [24, 47, 2, 4], [30, 46, 2, 2], [135, 45, 2, 1], [138, 43, 4, 5], [31, 43, 1, 2], [31, 41, 1, 1], [147, 40, 1, 8], [130, 40, 1, 1], [128, 40, 1, 2], [65, 40, 1, 2], [55, 39, 1, 1], [29, 39, 2, 6], [67, 38, 2, 6], [65, 36, 1, 2], [53, 36, 3, 2], [30, 36, 4, 2], [38, 35, 14, 2], [138, 32, 1, 4], [93, 32, 3, 18], [132, 31, 2, 1], [126, 31, 1, 1], [113, 31, 1, 1], [61, 31, 1, 1], [122, 30, 3, 1], [110, 30, 2, 2], [80, 30, 1, 2], [63, 30, 1, 1], [134, 29, 2, 1], [127, 29, 3, 2], [104, 29, 1, 1], [118, 28, 4, 2], [130, 27, 2, 1], [104, 27, 1, 1], [51, 27, 2, 3], [104, 25, 1, 1], [39, 25, 1, 2], [58, 24, 6, 6], [58, 24, 4, 5], [110, 23, 2, 2], [24, 23, 1, 2], [105, 22, 1, 2], [128, 20, 11, 1], [66, 20, 2, 15], [25, 20, 2, 2], [82, 19, 5, 13], [69, 19, 3, 26], [141, 18, 2, 1], [137, 18, 2, 1], [26, 17, 2, 1], [137, 16, 2, 1], [69, 16, 89, 112], [88, 120, 4, 4], [75, 120, 3, 3], [74, 118, 3, 4], [74, 111, 3, 3], [94, 108, 4, 3], [99, 107, 3, 3], [111, 106, 3, 3], [98, 106, 3, 3], [109, 105, 4, 3], [113, 104, 4, 4], [99, 104, 3, 3], [100, 103, 7, 5], [89, 103, 4, 5], [73, 103, 3, 3], [88, 102, 3, 3], [152, 101, 4, 3], [120, 101, 4, 3], [91, 101, 5, 6], [151, 100, 3, 3], [145, 100, 4, 3], [152, 99, 3, 3], [93, 98, 4, 5], [88, 98, 7, 6], [76, 98, 3, 3], [147, 97, 4, 3], [92, 97, 3, 3], [154, 96, 3, 4], [89, 96, 4, 4], [87, 96, 3, 3], [76, 96, 3, 3], [95, 95, 3, 3], [73, 95, 3, 3], [96, 94, 4, 3], [94, 94, 3, 3], [75, 94, 3, 3], [90, 93, 7, 6], [93, 92, 4, 4], [92, 91, 3, 3], [89, 91, 4, 4], [86, 91, 6, 7], [81, 91, 3, 3], [77, 91, 3, 3], [93, 90, 4, 3], [85, 90, 3, 3], [82, 90, 3, 3], [79, 90, 3, 4], [74, 90, 5, 6], [72, 90, 3, 3], [83, 89, 3, 3], [81, 89, 3, 3], [90, 88, 3, 3], [75, 88, 5, 5], [74, 88, 3, 3], [88, 87, 3, 3], [89, 86, 3, 3], [90, 84, 7, 9], [87, 82, 6, 6], [86, 81, 4, 4], [92, 80, 5, 5], [88, 80, 3, 3], [149, 72, 4, 7], [148, 71, 3, 3], [126, 52, 5, 4], [130, 50, 3, 3], [128, 49, 5, 6], [130, 48, 3, 3], [125, 48, 3, 4], [123, 48, 3, 3], [129, 47, 3, 3], [132, 46, 3, 3], [130, 46, 3, 3], [128, 42, 4, 5], [133, 41, 3, 3], [134, 40, 3, 3], [141, 39, 3, 3], [135, 39, 3, 3], [107, 26, 6, 4], [126, 24, 3, 3], [122, 24, 5, 4], [105, 16, 2, 4], [84, 16, 1, 1], [81, 16, 1, 1], [64, 15, 1, 1], [55, 15, 1, 1], [26, 15, 2, 1], [18, 15, 2, 1], [68, 14, 3, 2], [36, 14, 2, 2], [47, 12, 1, 2], [36, 10, 2, 2], [19, 9, 2, 2], [16, 8, 44, 96], [18, 100, 4, 4], [20, 96, 3, 4], [25, 85, 4, 5], [26, 79, 5, 5], [24, 78, 3, 4], [25, 70, 3, 3], [25, 63, 3, 3], [25, 31, 4, 3], [44, 30, 4, 3], [28, 30, 4, 4], [31, 29, 5, 4], [47, 26, 3, 4], [46, 24, 3, 3], [42, 8, 2, 1], [36, 8, 1, 1], [26, 8, 1, 1], [66, 6, 4, 2]]\n"
     ]
    },
    {
     "data": {
      "text/plain": [
       "True"
      ]
     },
     "execution_count": 2,
     "metadata": {},
     "output_type": "execute_result"
    }
   ],
   "source": [
    "threshold_area = 100\n",
    "readname = \"c1_1.JPG\"\n",
    "image = cv2.imread(readname)\n",
    "image = cv2.resize(image,(255,255))\n",
    "i = [];\n",
    "ret, labels = cv2.connectedComponents(thresh)\n",
    "for label in range(1,ret):\n",
    "    mask = np.array(labels, dtype=np.uint8)\n",
    "    mask[labels == label] = 255\n",
    "    n+=1\n",
    "    filename = \"thefile_%d.jpg\"%n\n",
    "    cv2.imwrite(filename,mask)\n",
    "    img = cv2.imread(filename)\n",
    "    gray = cv2.cvtColor(img,cv2.COLOR_BGR2GRAY) # convert to grayscale\n",
    "    im2, contours, hierarchy = cv2.findContours(gray,cv2.RETR_TREE,cv2.CHAIN_APPROX_SIMPLE)\n",
    "\n",
    "    image\n",
    "    i = [];\n",
    "    for contour in contours:\n",
    "     \n",
    "    # get rectangle bounding contour\n",
    "   \n",
    "        [x,y,w,h] = cv2.boundingRect(contour)\n",
    "        a =  [x,y,w,h]\n",
    "        \n",
    "    # discard areas that are too small\n",
    "   \n",
    " \n",
    "    \n",
    "\n",
    "        newrect = cv2.rectangle(image,(x,y),(x+w,y+h),(255,0,255),2) #find coordinates\n",
    "        i.append(a) #stores coordinates in array\n",
    "print(i)\n",
    "cv2.imwrite(\"contoured2.jpg\", newrect)\n",
    "\n",
    "\n"
   ]
  },
  {
   "cell_type": "code",
   "execution_count": 7,
   "metadata": {},
   "outputs": [],
   "source": [
    "# import os\n",
    "components = []\n",
    "readname = \"c1_11.JPG\"\n",
    "image = cv2.imread(readname)\n",
    "n = 0\n",
    "for x in i:\n",
    "    print(x)\n",
    "    a = x[0]\n",
    "    b = x[1]\n",
    "    c = x[2]\n",
    "    d = x[3]\n",
    "    crop_img2 = image[b:b+d, a:a+c]\n",
    "    components.append(crop_img2)\n",
    "    n+=1\n",
    "    filename = \"thefile_%d.jpg\"%n\n",
    "    path =r'C:\\Users\\mitchellel\\test\\Test Images'\n",
    "    cv2.imwrite(os.path.join(path , filename), crop_img2)"
   ]
  },
  {
   "cell_type": "code",
   "execution_count": 47,
   "metadata": {},
   "outputs": [
    {
     "data": {
      "text/plain": [
       "-1"
      ]
     },
     "execution_count": 47,
     "metadata": {},
     "output_type": "execute_result"
    }
   ],
   "source": [
    "# Standard imports\n",
    "import cv2\n",
    "import numpy as np;\n",
    " \n",
    "# Read image\n",
    "im = cv2.imread(\"circuit2.jpg\")\n",
    " \n",
    "gray = cv2.cvtColor(im,cv2.COLOR_BGR2GRAY) # grayscale\n",
    "_,thresh = cv2.threshold(gray,200,255,cv2.THRESH_BINARY_INV) \n",
    "#threshold\n",
    "kernel = cv2.getStructuringElement(cv2.MORPH_CROSS,(3,3))\n",
    "dilated = cv2.dilate(thresh,kernel,iterations = 3) # dilate\n",
    "image2,contours, hierarchy =cv2.findContours(dilated,cv2.RETR_EXTERNAL,cv2.CHAIN_APPROX_NONE)    \n",
    "\n",
    "# Setup SimpleBlobDetector parameters.\n",
    "params = cv2.SimpleBlobDetector_Params()\n",
    " \n",
    "# Change thresholds\n",
    "params.minThreshold = 10;\n",
    "params.maxThreshold = 200;\n",
    " \n",
    "# Filter by Area.\n",
    "params.filterByArea = True\n",
    "params.minArea = 500\n",
    " \n",
    "# Filter by Circularity\n",
    "params.filterByCircularity = True\n",
    "params.minCircularity = 0.5\n",
    " \n",
    "# Filter by Convexity\n",
    "params.filterByConvexity = False\n",
    "params.minConvexity = 0.87\n",
    " \n",
    "# Filter by Inertia\n",
    "params.filterByInertia = True\n",
    "params.minInertiaRatio = 0.50\n",
    " \n",
    "# Create a detector with the parameters\n",
    "ver = (cv2.__version__).split('.')\n",
    "if int(ver[0]) < 3 :\n",
    "    detector = cv2.SimpleBlobDetector(params)\n",
    "else : \n",
    "    detector = cv2.SimpleBlobDetector_create(params)\n",
    "    \n",
    "    # Detect blobs.\n",
    "keypoints = detector.detect(dilated)\n",
    " \n",
    "# Draw detected blobs as red circles.\n",
    "# cv2.DRAW_MATCHES_FLAGS_DRAW_RICH_KEYPOINTS ensures the size of the circle corresponds to the size of blob\n",
    "im_with_keypoints = cv2.drawKeypoints(dilated, keypoints, np.array([]), (0,0,255), cv2.DRAW_MATCHES_FLAGS_DRAW_RICH_KEYPOINTS)\n",
    " \n",
    "    \n",
    "# Show keypoints\n",
    "cv2.imwrite(\"ctest2.jpg\", im_with_keypoints)\n",
    "cv2.waitKey(0)"
   ]
  },
  {
   "cell_type": "code",
   "execution_count": 6,
   "metadata": {},
   "outputs": [],
   "source": [
    "import cv2\n",
    "import numpy as np\n",
    "\n",
    "img = cv2.imread('circuit2.jpg',0)\n",
    "img = cv2.medianBlur(img,5)\n",
    "cimg = cv2.cvtColor(img,cv2.COLOR_GRAY2BGR)\n",
    "edges = cv2.Canny(img,100,200)\n",
    "\n",
    "circles = cv2.HoughCircles(edges,cv2.HOUGH_GRADIENT,1,10,\n",
    "                            param1=50,param2=30)\n",
    "\n",
    "circles = np.uint16(np.around(circles))\n",
    "for i in circles[0,:]:\n",
    "    # draw the outer circle\n",
    "    cv2.circle(cimg,(i[0],i[1]),i[2],(0,255,0),2)\n",
    "    # draw the center of the circle\n",
    "    cv2.circle(cimg,(i[0],i[1]),2,(0,0,255),3)\n",
    "\n",
    "cv2.imwrite('detected.jpg',cimg)\n",
    "cv2.waitKey(0)\n",
    "cv2.destroyAllWindows()\n"
   ]
  },
  {
   "cell_type": "code",
   "execution_count": 29,
   "metadata": {},
   "outputs": [],
   "source": [
    "import numpy as np\n",
    "import cv2 as cv\n",
    "face_cascade = cv.CascadeClassifier('cascade.xml')\n",
    "\n",
    "img = cv.imread('circuit1_2_24.jpg')\n",
    "gray = cv.cvtColor(img, cv.COLOR_BGR2GRAY)"
   ]
  },
  {
   "cell_type": "code",
   "execution_count": 30,
   "metadata": {},
   "outputs": [
    {
     "data": {
      "text/plain": [
       "True"
      ]
     },
     "execution_count": 30,
     "metadata": {},
     "output_type": "execute_result"
    }
   ],
   "source": [
    "dots = face_cascade.detectMultiScale(gray, 1.1, 3)\n",
    "for (x,y,w,h) in dots:\n",
    "    cv.rectangle(img,(x,y),(x+w,y+h),(255,255,255),-1)\n",
    "    roi_gray = gray[y:y+h, x:x+w]\n",
    "    roi_color = img[y:y+h, x:x+w]\n",
    "\n",
    "cv.imwrite('testdot.jpg',img)"
   ]
  },
  {
   "cell_type": "code",
   "execution_count": null,
   "metadata": {},
   "outputs": [],
   "source": []
  }
 ],
 "metadata": {
  "kernelspec": {
   "display_name": "Python 3",
   "language": "python",
   "name": "python3"
  },
  "language_info": {
   "codemirror_mode": {
    "name": "ipython",
    "version": 3
   },
   "file_extension": ".py",
   "mimetype": "text/x-python",
   "name": "python",
   "nbconvert_exporter": "python",
   "pygments_lexer": "ipython3",
   "version": "3.6.6"
  }
 },
 "nbformat": 4,
 "nbformat_minor": 2
}
