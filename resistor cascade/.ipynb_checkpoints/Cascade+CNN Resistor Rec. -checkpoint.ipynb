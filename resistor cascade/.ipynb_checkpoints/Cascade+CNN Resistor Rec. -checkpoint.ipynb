{
 "cells": [
  {
   "cell_type": "code",
   "execution_count": 73,
   "metadata": {},
   "outputs": [],
   "source": [
    "import numpy as np\n",
    "import cv2\n",
    "import h5py\n",
    "import keras\n",
    "from keras.models import Sequential \n",
    "from keras.layers import Activation\n",
    "from keras.layers import Dropout\n",
    "from keras.layers.core import Dense, Flatten \n",
    "from keras.optimizers import Adam\n",
    "from keras.metrics import categorical_crossentropy \n",
    "from keras.preprocessing.image import ImageDataGenerator\n",
    "from keras.layers.normalization import BatchNormalization \n",
    "from keras.layers.convolutional import *\n",
    "from keras.models import load_model\n",
    "from matplotlib import pyplot as plt\n",
    "from sklearn.metrics import confusion_matrix \n",
    "import itertools\n",
    "import matplotlib.pyplot as plt\n",
    "%matplotlib inline \n",
    "from keras.models import model_from_json"
   ]
  },
  {
   "cell_type": "markdown",
   "metadata": {},
   "source": [
    "# Importing Image from PC "
   ]
  },
  {
   "cell_type": "code",
   "execution_count": 74,
   "metadata": {},
   "outputs": [
    {
     "data": {
      "text/plain": [
       "<matplotlib.image.AxesImage at 0x26880a899e8>"
      ]
     },
     "execution_count": 74,
     "metadata": {},
     "output_type": "execute_result"
    },
    {
     "data": {
      "image/png": "[encoded data removed]",
      "text/plain": [
       "<Figure size 432x288 with 1 Axes>"
      ]
     },
     "metadata": {
      "needs_background": "light"
     },
     "output_type": "display_data"
    }
   ],
   "source": [
    "#Loading the image to be tested\n",
    "test_image = cv2.imread('test25.jpg')\n",
    "\n",
    "#Converting to grayscale\n",
    "test_image_gray = cv2.cvtColor(test_image, cv2.COLOR_BGR2GRAY)\n",
    "\n",
    "# Displaying the grayscale image\n",
    "plt.imshow(test_image_gray, cmap='gray')\n",
    "#Since we know that OpenCV loads an image in BGR format, so we need to convert it into RBG format to be able to display its true colors. Let us write a small function for that."
   ]
  },
  {
   "cell_type": "code",
   "execution_count": 75,
   "metadata": {},
   "outputs": [
    {
     "name": "stdout",
     "output_type": "stream",
     "text": [
      "Faces found:  1\n"
     ]
    }
   ],
   "source": [
    "def convertToRGB(image):\n",
    "    return cv2.cvtColor(image, cv2.COLOR_BGR2RGB)\n",
    "cascade_test = cv2.CascadeClassifier('number cas/classifier/cascade.xml')\n",
    "\n",
    "obj_rects = cascade_test.detectMultiScale(test_image_gray, scaleFactor = 1.3, minNeighbors = 2);\n",
    "\n",
    "# Let us print the no. of faces found\n",
    "print('Faces found: ', len(obj_rects))"
   ]
  },
  {
   "cell_type": "markdown",
   "metadata": {},
   "source": [
    "# Detecting Resistor"
   ]
  },
  {
   "cell_type": "code",
   "execution_count": 76,
   "metadata": {},
   "outputs": [
    {
     "data": {
      "image/png": "[encoded data removed]",
      "text/plain": [
       "<Figure size 432x288 with 1 Axes>"
      ]
     },
     "metadata": {
      "needs_background": "light"
     },
     "output_type": "display_data"
    }
   ],
   "source": [
    "for (x,y,w,h) in obj_rects:\n",
    "     cv2.rectangle(test_image, (x-25, y-25), (x+w+20, y+h+20), (0, 255, 0), 2)\n",
    "        \n",
    "#convert image to RGB and show image\n",
    "\n",
    "plt.imshow(convertToRGB(test_image))\n",
    "\n",
    "if len(obj_rects) != 0: \n",
    "\n",
    "    crop_img =test_image[y:y+h, x:x+w]\n",
    "    cv2.imshow(\"cropped\", crop_img)\n",
    "    cv2.waitKey(0)\n",
    "    \n",
    "#print(crop_img)"
   ]
  },
  {
   "cell_type": "markdown",
   "metadata": {},
   "source": [
    "# Importing Model and weights"
   ]
  },
  {
   "cell_type": "code",
   "execution_count": 77,
   "metadata": {},
   "outputs": [
    {
     "name": "stdout",
     "output_type": "stream",
     "text": [
      "Loaded model from disk\n"
     ]
    }
   ],
   "source": [
    "\n",
    "vgg19_model = keras.applications.vgg19.VGG19() \n",
    "#downloads vgg16 model from keras aplications \n",
    "\n",
    "#creates a model named 'model' that is of Sequential form , VGG16 is in a non-sequential model \n",
    "model = Sequential()\n",
    "for layer in vgg19_model.layers[:-1]:  # deletes last layer of VGG16 as VGG16 pertains to 1000 classes, we have 5\n",
    "    model.add(layer) # add  a layer back to the bottom \n",
    "for layer in model.layers:\n",
    "    layer.trainable = False\n",
    "model.add(Dropout(0.4))\n",
    "model.add(Dense(5, activation='softmax'))  # add a dense 5 output layer, we have 5 classes \n",
    "\n",
    "\n",
    "\n",
    "# load weights into new model\n",
    "model.load_weights(\"res_model.h5\") #pre-trained weights \n",
    "print(\"Loaded model from disk\")"
   ]
  },
  {
   "cell_type": "markdown",
   "metadata": {},
   "source": [
    "# Plotting Images Function"
   ]
  },
  {
   "cell_type": "code",
   "execution_count": 78,
   "metadata": {},
   "outputs": [],
   "source": [
    "def plots(ims, figsize=(12,6), rows=1, interp=False, titles=None ):\n",
    "    if type(ims[0]) is np.ndarray:\n",
    "        ims = np.array(ims).astype(np.uint8)\n",
    "        if (ims.shape[-1] != 3):\n",
    "            ims = ims.transpose((0,2,3,1))\n",
    "    f = plt.figure(figsize=figsize)\n",
    "    cols = len(ims)//rows if len(ims) % 2 == 0 else len(ims)//rows + 1\n",
    "    for i in range (len(ims)):\n",
    "        sp = f.add_subplot(rows,cols,i+1)\n",
    "        sp.axis('off')\n",
    "        if titles is not None:\n",
    "            sp.set_title(titles[i], fontsize=16)\n",
    "        plt.imshow(ims[i], interpolation = None if interp else 'none')"
   ]
  },
  {
   "cell_type": "markdown",
   "metadata": {},
   "source": [
    "# PREDICTIONS"
   ]
  },
  {
   "cell_type": "code",
   "execution_count": 80,
   "metadata": {},
   "outputs": [
    {
     "name": "stdout",
     "output_type": "stream",
     "text": [
      "[[0.02429977 0.7929791  0.00390963 0.00811387 0.17069761]]\n",
      " \n",
      " \n",
      "resistor image predicted value is:\n",
      "[79.29791] % 2 Ohms\n",
      " \n"
     ]
    }
   ],
   "source": [
    "resized =cv2.resize(crop_img, (224,224))\n",
    "#resized cropped image to [224, 224] as VGG takes in images of [224, 224, 3] \n",
    "\n",
    "\n",
    "\n",
    "#convert image of [224, 224] to 'numpy array' of [224, 224, 3] to be inserted into predict function \n",
    "input = cv2.resize(resized, (224 , 224)).reshape((224 , 224,3)).astype('float32') / 255\n",
    "\n",
    "\n",
    "#insert into predictions function \n",
    "predictions = model.predict(np.array([input]))\n",
    "print(predictions)\n",
    "\n",
    "#max_val = np.max(predictions) \n",
    "location = np.argmax(predictions) #index of max value in array\n",
    "max_val = predictions[:,location] #grabs value at index \n",
    "    \n",
    "print(\" \")\n",
    "print(\" \")\n",
    "\n",
    "\n",
    "print(\"resistor image predicted value is:\")\n",
    "if location == 0:\n",
    "            print(max_val*100 , \"% 1 Ohm\")\n",
    "            print(\" \")\n",
    "if location == 1:\n",
    "            print(max_val*100,\"% 2 Ohms\")\n",
    "            print(\" \")\n",
    "if location == 2:\n",
    "            print(max_val*100,\"% 3 Ohms\")\n",
    "            print(\" \")\n",
    "if location == 3:\n",
    "            print(max_val*100,\"% 4 Ohms\")\n",
    "            print(\" \")\n",
    "if location == 4:\n",
    "            print(max_val*100,\"% 5 Ohm\")\n",
    "            print(\" \")\n"
   ]
  },
  {
   "cell_type": "markdown",
   "metadata": {},
   "source": [
    "# OPENCV Webcam"
   ]
  },
  {
   "cell_type": "code",
   "execution_count": 39,
   "metadata": {},
   "outputs": [],
   "source": [
    "#openCV webcam \n",
    "\n",
    "import numpy as np\n",
    "import cv2\n",
    "\n",
    "cap = cv2.VideoCapture(0)\n",
    "\n",
    "while(True):\n",
    "    # Capture frame-by-frame\n",
    "    ret, frame = cap.read()\n",
    "\n",
    "    # Our operations on the frame come here\n",
    "    gray = cv2.cvtColor(frame, cv2.COLOR_BGR2GRAY)\n",
    "   \n",
    "    # Display the resulting frame\n",
    "    cv2.imshow('frame',frame)\n",
    "    cv2.imshow('gray',gray)\n",
    "    if cv2.waitKey(20) & 0xFF == ord('q'):\n",
    "        break\n",
    "\n",
    "# When everything done, release the capture\n",
    "cap.release()\n",
    "cv2.destroyAllWindows()"
   ]
  },
  {
   "cell_type": "code",
   "execution_count": null,
   "metadata": {},
   "outputs": [],
   "source": []
  }
 ],
 "metadata": {
  "kernelspec": {
   "display_name": "Python 3",
   "language": "python",
   "name": "python3"
  },
  "language_info": {
   "codemirror_mode": {
    "name": "ipython",
    "version": 3
   },
   "file_extension": ".py",
   "mimetype": "text/x-python",
   "name": "python",
   "nbconvert_exporter": "python",
   "pygments_lexer": "ipython3",
   "version": "3.6.6"
  }
 },
 "nbformat": 4,
 "nbformat_minor": 2
}
